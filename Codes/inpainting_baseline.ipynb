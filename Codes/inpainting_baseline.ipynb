{
 "cells": [
  {
   "cell_type": "markdown",
   "metadata": {},
   "source": [
    "# Author: Seunghee Kim\n",
    "Created on: 24.12.08"
   ]
  },
  {
   "cell_type": "code",
   "execution_count": null,
   "metadata": {},
   "outputs": [],
   "source": [
    "import os\n",
    "os.environ[\"CUDA_VISIBLE_DEVICES\"] = \"0\"\n",
    "\n",
    "from PIL import Image\n",
    "import torch\n",
    "from diffusers import AutoPipelineForInpainting\n",
    "from diffusers.utils import load_image"
   ]
  },
  {
   "cell_type": "code",
   "execution_count": null,
   "metadata": {},
   "outputs": [],
   "source": [
    "class CFG:\n",
    "    MODEL = \"kandinsky-community/kandinsky-2-2-decoder-inpaint\"\n",
    "    CACHE_DIR = \"./cache_dir\"\n",
    "    \n",
    "pipeline = AutoPipelineForInpainting.from_pretrained(\n",
    "    CFG.MODEL, \n",
    "    torch_dtype=torch.float16,\n",
    "    cache_dir=CFG.CACHE_DIR\n",
    ")\n",
    "pipeline.enable_model_cpu_offload()\n",
    "pipeline.enable_xformers_memory_efficient_attention()"
   ]
  },
  {
   "cell_type": "code",
   "execution_count": null,
   "metadata": {},
   "outputs": [],
   "source": [
    "# 예시 샘플\n",
    "image_path = \"./two-people-sea.jpg\"        # 원본 이미지\n",
    "mask_path = \"./two-people-sea-mask.png\"   # 마스크 이미지\n",
    "\n",
    "# 이미지 크기 (512, 512)로 Resize\n",
    "target_size = (512, 512)\n",
    "\n",
    "def load_and_resize_image(image_path, target_size, save_path=None):\n",
    "    image = load_image(image_path)\n",
    "    resized_image = image.resize(target_size, Image.Resampling.LANCZOS)  \n",
    "    if save_path: \n",
    "        resized_image.save(save_path)\n",
    "    return resized_image\n",
    "\n",
    "\n",
    "resized_original_path = \"./resized-two-people-sea.jpg\"\n",
    "resized_mask_path = \"./resized-two-people-sea-mask.png\"\n",
    "\n",
    "original_image = load_and_resize_image(image_path, target_size, resized_original_path)\n",
    "mask_image = load_and_resize_image(mask_path, target_size, resized_mask_path)\n",
    "\n",
    "result = pipeline(\n",
    "    image=original_image, \n",
    "    mask_image=mask_image,\n",
    "    prompt=\"Fill the missing area with the sea background\" \n",
    "\n",
    ").images[0]\n",
    "\n",
    "result_resized_path = \"./two-people-sea-inpainted.jpg\"\n",
    "result = result.resize(target_size, Image.Resampling.LANCZOS)\n",
    "result.save(result_resized_path)  \n",
    "\n",
    "print(f\"Resized original image: {resized_original_path}\")\n",
    "print(f\"Resized mask image: {resized_mask_path}\")\n",
    "print(f\"Inpainted result: {result_resized_path}\")"
   ]
  },
  {
   "cell_type": "code",
   "execution_count": null,
   "metadata": {},
   "outputs": [],
   "source": []
  },
  {
   "cell_type": "code",
   "execution_count": null,
   "metadata": {},
   "outputs": [],
   "source": []
  },
  {
   "cell_type": "code",
   "execution_count": null,
   "metadata": {},
   "outputs": [],
   "source": []
  },
  {
   "cell_type": "code",
   "execution_count": null,
   "metadata": {},
   "outputs": [],
   "source": []
  }
 ],
 "metadata": {
  "kernelspec": {
   "display_name": "ksh",
   "language": "python",
   "name": "python3"
  },
  "language_info": {
   "name": "python",
   "version": "3.9.19"
  }
 },
 "nbformat": 4,
 "nbformat_minor": 2
}
